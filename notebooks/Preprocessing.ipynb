{
 "cells": [
  {
   "cell_type": "code",
   "execution_count": null,
   "metadata": {},
   "outputs": [],
   "source": [
    "import numpy as np\n",
    "import rasterio\n",
    "import matplotlib.pyplot as plt\n",
    "from skimage.transform import resize\n",
    "\n",
    "band_paths = {\n",
    "    'B04': r\"C:\\Datasets\\BigEarthNet-S2\\BigEarthNet-S2\\S2A_MSIL2A_20170613T101031_N9999_R022_T33UUP\\S2A_MSIL2A_20170613T101031_N9999_R022_T33UUP_26_57\\S2A_MSIL2A_20170613T101031_N9999_R022_T33UUP_26_57_B04.tif\",  # Red\n",
    "    'B03': r\"C:\\Datasets\\BigEarthNet-S2\\BigEarthNet-S2\\S2A_MSIL2A_20170613T101031_N9999_R022_T33UUP\\S2A_MSIL2A_20170613T101031_N9999_R022_T33UUP_26_57\\S2A_MSIL2A_20170613T101031_N9999_R022_T33UUP_26_57_B03.tif\",  # Green\n",
    "    'B02': r\"C:\\Datasets\\BigEarthNet-S2\\BigEarthNet-S2\\S2A_MSIL2A_20170613T101031_N9999_R022_T33UUP\\S2A_MSIL2A_20170613T101031_N9999_R022_T33UUP_26_57\\S2A_MSIL2A_20170613T101031_N9999_R022_T33UUP_26_57_B02.tif\",  # Blue\n",
    "}\n",
    "\n",
    "with rasterio.open(band_paths['B04']) as src:\n",
    "    red = src.read(1)\n",
    "with rasterio.open(band_paths['B03']) as src:\n",
    "    green = src.read(1)\n",
    "with rasterio.open(band_paths['B02']) as src:\n",
    "    blue = src.read(1)\n",
    "\n",
    "rgb_image = np.stack([red, green, blue], axis=-1)\n",
    "rgb_image = rgb_image / np.max(rgb_image)\n",
    "\n",
    "plt.imshow(rgb_image)\n",
    "plt.show()\n",
    "print(\"RGB image shape:\", rgb_image.shape)\n"
   ]
  },
  {
   "cell_type": "code",
   "execution_count": null,
   "metadata": {},
   "outputs": [],
   "source": [
    "import os\n",
    "\n",
    "dir_path = r\"C:\\Datasets\\BigEarthNet-S2\\BigEarthNet-S2\\S2A_MSIL2A_20170613T101031_N9999_R022_T33UUP\"\n",
    "\n",
    "sub_dirs = os.listdir(dir_path)\n",
    "\n",
    "sub_dirs"
   ]
  },
  {
   "cell_type": "code",
   "execution_count": null,
   "metadata": {},
   "outputs": [],
   "source": [
    "sub_path =  os.path.join(dir_path, sub_dirs[0])\n",
    "\n",
    "os.listdir(sub_path)"
   ]
  },
  {
   "cell_type": "code",
   "execution_count": null,
   "metadata": {},
   "outputs": [],
   "source": [
    "for sub_dir in sub_dirs:\n",
    "    sub_path =  os.path.join(dir_path, sub_dir)\n",
    "    #print(sub_path)\n",
    "    #print(os.listdir(sub_path))\n",
    "\n",
    "    # blue\n",
    "    with rasterio.open(os.path.join(sub_path, f'{sub_dir}_B02.tif')) as src:\n",
    "        blue = src.read(1)\n",
    "\n",
    "    # green\n",
    "    with rasterio.open(os.path.join(sub_path, f'{sub_dir}_B03.tif')) as src:\n",
    "        green = src.read(1)\n",
    "\n",
    "    # red\n",
    "    with rasterio.open(os.path.join(sub_path, f'{sub_dir}_B04.tif')) as src:\n",
    "        red = src.read(1)\n",
    "\n",
    "    rgb_image = np.stack([red, green, blue], axis=-1)\n",
    "    rgb_image = rgb_image / np.max(rgb_image)\n",
    "    #rgb_image_resized = resize(rgb_image, (224, 224), anti_aliasing=True)\n",
    "\n",
    "    plt.imshow(rgb_image)\n",
    "    plt.show()\n",
    "\n",
    "    # save\n",
    "    try:\n",
    "        plt.imsave(f'SampleDataset\\{sub_dir}.png', rgb_image)\n",
    "    except:\n",
    "        pass"
   ]
  },
  {
   "cell_type": "code",
   "execution_count": null,
   "metadata": {},
   "outputs": [],
   "source": []
  }
 ],
 "metadata": {
  "kernelspec": {
   "display_name": "Python 3",
   "language": "python",
   "name": "python3"
  },
  "language_info": {
   "codemirror_mode": {
    "name": "ipython",
    "version": 3
   },
   "file_extension": ".py",
   "mimetype": "text/x-python",
   "name": "python",
   "nbconvert_exporter": "python",
   "pygments_lexer": "ipython3",
   "version": "3.12.2"
  }
 },
 "nbformat": 4,
 "nbformat_minor": 2
}
